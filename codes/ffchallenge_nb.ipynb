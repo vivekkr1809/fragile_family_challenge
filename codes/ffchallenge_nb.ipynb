{
 "cells": [
  {
   "cell_type": "markdown",
   "id": "3a648ced-3bfd-4649-8486-a2f9b7146fa3",
   "metadata": {},
   "source": [
    "# Fragile Family Challenge"
   ]
  },
  {
   "cell_type": "markdown",
   "id": "44f84ede-dbdb-4901-bfd6-e912db1883d9",
   "metadata": {},
   "source": [
    "## Introduction\n",
    "\n",
    "Verbatim from Fragile Families Challenge website:\n",
    "\n",
    "- The Fragile Families & Child Wellbeing Study is following a cohort of nearly 5,000 children born in large U.S. cities between 1998 and 2000, roughly three-quarters of whom were born to unmarried parents. We refer to unmarried parents and their children as “fragile families” to underscore that they are families and that they are at greater risk of breaking up and living in poverty than more traditional families.\n",
    "\n",
    "- The core Study was originally designed to primarily address four questions of great interest to researchers and policy makers: (1) What are the conditions and capabilities of unmarried parents, especially fathers?; (2) What is the nature of the relationshipsbetween unmarried parents?; (3) How do children born into these families fare?; and (4) How do policies and environmental conditions affect families and children?  \n",
    "\n",
    "- The core Study consists of interviews with both mothers and fathers at birth and again when children are ages one, three, five, and nine. The parent interviews collect information on attitudes, relationships, parenting behavior, demographic characteristics, health (mental and physical), economic and employment status, neighborhood characteristics, and program participation. Additionally, in-home assessments of children and their home environments were conducted at ages three, five, and nine. The in-home interview collects information on children’s cognitive and emotional development, health, and home environment. Several collaborative studies provide additional information on parents’ medical, employment and incarceration histories, religion, child care and early childhood education. A fifteen-year follow-up wave includes a collection of in-home and telephone survey data from caregivers and teens."
   ]
  },
  {
   "cell_type": "markdown",
   "id": "3d423f39-1f09-4ac9-a9ce-0439d82a8fbf",
   "metadata": {},
   "source": [
    "## Problem Description\n",
    "You are provided with all the data set from the years 1 through 9. There are some training data from year 15, the goal of this project is to predict six key outcomes in the year 15. The six key outcomes are - grit, GPA, material hardness, eviction, job loss, and job training. These include 3 binary and three continuous outcomes. GPA, Grit and material hardship are continuous outcomes. House eviction, layoffs of caregiver, job training of a caregiver are binary outcomes."
   ]
  },
  {
   "cell_type": "markdown",
   "id": "c9fdda5c-0ef9-4ad5-afd3-e88b2d2fc6a0",
   "metadata": {},
   "source": [
    "## Data Description\n",
    "\n",
    "The `input_files` folder contains three comma-separated values files, a text codebook file, a Stata .dta file that contains the data with variable and value labels, and a text file identifying features that are constant.\n",
    "\n",
    "---\n",
    "- background.csv contains 4,242 rows (one per family) and 13,027 columns\n",
    "- background.dta contains the same information, plus variable and value labels, in a Stata data file.\n",
    "\n",
    "These files contain:\n",
    "\n",
    "challengeID: A unique numeric identifier for each child.\n",
    "\n",
    "13,026 background variables asked from birth to age 9, which you may use in building your model.\n",
    "\n",
    "---\n",
    "- train.csv contains 2,121 rows (one per child in the training set) and 7 columns.\n",
    "\n",
    "These are the outcome variables measured at approximately child age 15, which you can use to train your models.\n",
    "\n",
    "The file contains:\n",
    "\n",
    "challengeID: A unique numeric identifier for each child.\n",
    "\n",
    "Six outcome variables. Blog posts about the outcomes are available at http://www.fragilefamilieschallenge.org/blog-posts/\n",
    "\n",
    "Continuous variables: grit, gpa, materialHardship\n",
    "\n",
    "Binary variables: eviction, layoff, jobTraining\n",
    "\n",
    "---\n",
    "- codebook_FFChallenge.txt is a text file that contains the codebook for all variables in the Challenge data file. This combines several codebooks from the main Fragile Families and Child Wellbeing Study documentation.\n",
    "\n",
    "---\n",
    "- constantVariables.txt gives the column names of variables that are constant in the data. Some of these variables are constant because they have been redacted out of concern for the privacy of respondents. "
   ]
  },
  {
   "cell_type": "markdown",
   "id": "0b320a52-c27d-4a2b-afc7-c4bd141f3c1d",
   "metadata": {},
   "source": [
    "## Solution Approach\n",
    "As a first step we remove the constant columns to ease the computation and remove non-contributing features\n"
   ]
  },
  {
   "cell_type": "code",
   "execution_count": 1,
   "id": "194c4b9c-2182-4deb-8e9b-eb7a0266eef0",
   "metadata": {},
   "outputs": [],
   "source": [
    "import numpy as np\n",
    "import pandas as pd"
   ]
  },
  {
   "cell_type": "code",
   "execution_count": 2,
   "id": "76b9fa72-9ef2-4ea1-9d1b-68d584b78a7f",
   "metadata": {},
   "outputs": [
    {
     "data": {
      "text/html": [
       "<div>\n",
       "<style scoped>\n",
       "    .dataframe tbody tr th:only-of-type {\n",
       "        vertical-align: middle;\n",
       "    }\n",
       "\n",
       "    .dataframe tbody tr th {\n",
       "        vertical-align: top;\n",
       "    }\n",
       "\n",
       "    .dataframe thead th {\n",
       "        text-align: right;\n",
       "    }\n",
       "</style>\n",
       "<table border=\"1\" class=\"dataframe\">\n",
       "  <thead>\n",
       "    <tr style=\"text-align: right;\">\n",
       "      <th></th>\n",
       "      <th>challengeID</th>\n",
       "      <th>cf1intmon</th>\n",
       "      <th>cf1intyr</th>\n",
       "      <th>cf1lenhr</th>\n",
       "      <th>cf1lenmin</th>\n",
       "      <th>cf1twoc</th>\n",
       "      <th>cf1fint</th>\n",
       "      <th>cf1natsm</th>\n",
       "      <th>f1natwt</th>\n",
       "      <th>cf1natsmx</th>\n",
       "      <th>...</th>\n",
       "      <th>m4d9</th>\n",
       "      <th>m4e23</th>\n",
       "      <th>f4d6</th>\n",
       "      <th>f4d7</th>\n",
       "      <th>f4d9</th>\n",
       "      <th>m5c6</th>\n",
       "      <th>m5d20</th>\n",
       "      <th>m5k10</th>\n",
       "      <th>f5c6</th>\n",
       "      <th>k5f1</th>\n",
       "    </tr>\n",
       "  </thead>\n",
       "  <tbody>\n",
       "    <tr>\n",
       "      <th>0</th>\n",
       "      <td>1</td>\n",
       "      <td>-3</td>\n",
       "      <td>-3</td>\n",
       "      <td>-9</td>\n",
       "      <td>-9</td>\n",
       "      <td>-3</td>\n",
       "      <td>0</td>\n",
       "      <td>-3</td>\n",
       "      <td>-3</td>\n",
       "      <td>-3</td>\n",
       "      <td>...</td>\n",
       "      <td>6.269946</td>\n",
       "      <td>5.180325</td>\n",
       "      <td>2.511131</td>\n",
       "      <td>1.718804</td>\n",
       "      <td>6.473537</td>\n",
       "      <td>16.369411</td>\n",
       "      <td>4.476881</td>\n",
       "      <td>9.628369</td>\n",
       "      <td>15.981275</td>\n",
       "      <td>24.038266</td>\n",
       "    </tr>\n",
       "    <tr>\n",
       "      <th>1</th>\n",
       "      <td>2</td>\n",
       "      <td>-3</td>\n",
       "      <td>-3</td>\n",
       "      <td>0</td>\n",
       "      <td>40</td>\n",
       "      <td>-3</td>\n",
       "      <td>1</td>\n",
       "      <td>-3</td>\n",
       "      <td>-3</td>\n",
       "      <td>-3</td>\n",
       "      <td>...</td>\n",
       "      <td>6.269946</td>\n",
       "      <td>27.680196</td>\n",
       "      <td>2.511131</td>\n",
       "      <td>1.718804</td>\n",
       "      <td>6.473537</td>\n",
       "      <td>16.369411</td>\n",
       "      <td>26.671897</td>\n",
       "      <td>9.628369</td>\n",
       "      <td>15.981275</td>\n",
       "      <td>3.667679</td>\n",
       "    </tr>\n",
       "    <tr>\n",
       "      <th>2</th>\n",
       "      <td>3</td>\n",
       "      <td>-3</td>\n",
       "      <td>-3</td>\n",
       "      <td>0</td>\n",
       "      <td>45</td>\n",
       "      <td>-3</td>\n",
       "      <td>1</td>\n",
       "      <td>-3</td>\n",
       "      <td>-3</td>\n",
       "      <td>-3</td>\n",
       "      <td>...</td>\n",
       "      <td>6.269946</td>\n",
       "      <td>5.180325</td>\n",
       "      <td>20.867881</td>\n",
       "      <td>24.115867</td>\n",
       "      <td>6.473537</td>\n",
       "      <td>16.369411</td>\n",
       "      <td>4.476881</td>\n",
       "      <td>9.628369</td>\n",
       "      <td>15.981275</td>\n",
       "      <td>24.038266</td>\n",
       "    </tr>\n",
       "    <tr>\n",
       "      <th>3</th>\n",
       "      <td>4</td>\n",
       "      <td>-3</td>\n",
       "      <td>-3</td>\n",
       "      <td>0</td>\n",
       "      <td>45</td>\n",
       "      <td>-3</td>\n",
       "      <td>1</td>\n",
       "      <td>-3</td>\n",
       "      <td>-3</td>\n",
       "      <td>-3</td>\n",
       "      <td>...</td>\n",
       "      <td>6.269946</td>\n",
       "      <td>5.180325</td>\n",
       "      <td>22.018875</td>\n",
       "      <td>22.932641</td>\n",
       "      <td>6.473537</td>\n",
       "      <td>-5.169243</td>\n",
       "      <td>4.476881</td>\n",
       "      <td>9.628369</td>\n",
       "      <td>-6.303171</td>\n",
       "      <td>4.140511</td>\n",
       "    </tr>\n",
       "    <tr>\n",
       "      <th>4</th>\n",
       "      <td>5</td>\n",
       "      <td>-3</td>\n",
       "      <td>-3</td>\n",
       "      <td>-6</td>\n",
       "      <td>50</td>\n",
       "      <td>-3</td>\n",
       "      <td>1</td>\n",
       "      <td>-3</td>\n",
       "      <td>-3</td>\n",
       "      <td>-3</td>\n",
       "      <td>...</td>\n",
       "      <td>6.269946</td>\n",
       "      <td>5.180325</td>\n",
       "      <td>22.916602</td>\n",
       "      <td>22.988036</td>\n",
       "      <td>6.473537</td>\n",
       "      <td>-6.034660</td>\n",
       "      <td>4.476881</td>\n",
       "      <td>9.628369</td>\n",
       "      <td>-6.211828</td>\n",
       "      <td>3.668879</td>\n",
       "    </tr>\n",
       "  </tbody>\n",
       "</table>\n",
       "<p>5 rows × 13027 columns</p>\n",
       "</div>"
      ],
      "text/plain": [
       "   challengeID  cf1intmon  cf1intyr  cf1lenhr  cf1lenmin  cf1twoc  cf1fint  \\\n",
       "0            1         -3        -3        -9         -9       -3        0   \n",
       "1            2         -3        -3         0         40       -3        1   \n",
       "2            3         -3        -3         0         45       -3        1   \n",
       "3            4         -3        -3         0         45       -3        1   \n",
       "4            5         -3        -3        -6         50       -3        1   \n",
       "\n",
       "   cf1natsm  f1natwt  cf1natsmx  ...      m4d9      m4e23       f4d6  \\\n",
       "0        -3       -3         -3  ...  6.269946   5.180325   2.511131   \n",
       "1        -3       -3         -3  ...  6.269946  27.680196   2.511131   \n",
       "2        -3       -3         -3  ...  6.269946   5.180325  20.867881   \n",
       "3        -3       -3         -3  ...  6.269946   5.180325  22.018875   \n",
       "4        -3       -3         -3  ...  6.269946   5.180325  22.916602   \n",
       "\n",
       "        f4d7      f4d9       m5c6      m5d20     m5k10       f5c6       k5f1  \n",
       "0   1.718804  6.473537  16.369411   4.476881  9.628369  15.981275  24.038266  \n",
       "1   1.718804  6.473537  16.369411  26.671897  9.628369  15.981275   3.667679  \n",
       "2  24.115867  6.473537  16.369411   4.476881  9.628369  15.981275  24.038266  \n",
       "3  22.932641  6.473537  -5.169243   4.476881  9.628369  -6.303171   4.140511  \n",
       "4  22.988036  6.473537  -6.034660   4.476881  9.628369  -6.211828   3.668879  \n",
       "\n",
       "[5 rows x 13027 columns]"
      ]
     },
     "execution_count": 2,
     "metadata": {},
     "output_type": "execute_result"
    }
   ],
   "source": [
    "# Read the background information into pandas\n",
    "BACKGROUND_FILE = './input_files/background.csv'\n",
    "background_data = pd.read_csv(BACKGROUND_FILE, low_memory=False) #Certain columns have mixed data type\n",
    "background_data.head()"
   ]
  },
  {
   "cell_type": "code",
   "execution_count": 3,
   "id": "cbb38d68-318c-41aa-bb0f-a5ef8c6aba73",
   "metadata": {},
   "outputs": [
    {
     "data": {
      "text/html": [
       "<div>\n",
       "<style scoped>\n",
       "    .dataframe tbody tr th:only-of-type {\n",
       "        vertical-align: middle;\n",
       "    }\n",
       "\n",
       "    .dataframe tbody tr th {\n",
       "        vertical-align: top;\n",
       "    }\n",
       "\n",
       "    .dataframe thead th {\n",
       "        text-align: right;\n",
       "    }\n",
       "</style>\n",
       "<table border=\"1\" class=\"dataframe\">\n",
       "  <thead>\n",
       "    <tr style=\"text-align: right;\">\n",
       "      <th></th>\n",
       "      <th>challengeID</th>\n",
       "      <th>cf1lenhr</th>\n",
       "      <th>cf1lenmin</th>\n",
       "      <th>cf1fint</th>\n",
       "      <th>cf1citsm</th>\n",
       "      <th>f1citywt</th>\n",
       "      <th>f1a2</th>\n",
       "      <th>f1a3</th>\n",
       "      <th>f1a4</th>\n",
       "      <th>f1a4a</th>\n",
       "      <th>...</th>\n",
       "      <th>m4d9</th>\n",
       "      <th>m4e23</th>\n",
       "      <th>f4d6</th>\n",
       "      <th>f4d7</th>\n",
       "      <th>f4d9</th>\n",
       "      <th>m5c6</th>\n",
       "      <th>m5d20</th>\n",
       "      <th>m5k10</th>\n",
       "      <th>f5c6</th>\n",
       "      <th>k5f1</th>\n",
       "    </tr>\n",
       "  </thead>\n",
       "  <tbody>\n",
       "    <tr>\n",
       "      <th>0</th>\n",
       "      <td>1</td>\n",
       "      <td>-9</td>\n",
       "      <td>-9</td>\n",
       "      <td>0</td>\n",
       "      <td>-9</td>\n",
       "      <td>-3.000000</td>\n",
       "      <td>-9</td>\n",
       "      <td>-9</td>\n",
       "      <td>-9</td>\n",
       "      <td>-9</td>\n",
       "      <td>...</td>\n",
       "      <td>6.269946</td>\n",
       "      <td>5.180325</td>\n",
       "      <td>2.511131</td>\n",
       "      <td>1.718804</td>\n",
       "      <td>6.473537</td>\n",
       "      <td>16.369411</td>\n",
       "      <td>4.476881</td>\n",
       "      <td>9.628369</td>\n",
       "      <td>15.981275</td>\n",
       "      <td>24.038266</td>\n",
       "    </tr>\n",
       "    <tr>\n",
       "      <th>1</th>\n",
       "      <td>2</td>\n",
       "      <td>0</td>\n",
       "      <td>40</td>\n",
       "      <td>1</td>\n",
       "      <td>1</td>\n",
       "      <td>68.455658</td>\n",
       "      <td>2</td>\n",
       "      <td>1</td>\n",
       "      <td>1</td>\n",
       "      <td>-6</td>\n",
       "      <td>...</td>\n",
       "      <td>6.269946</td>\n",
       "      <td>27.680196</td>\n",
       "      <td>2.511131</td>\n",
       "      <td>1.718804</td>\n",
       "      <td>6.473537</td>\n",
       "      <td>16.369411</td>\n",
       "      <td>26.671897</td>\n",
       "      <td>9.628369</td>\n",
       "      <td>15.981275</td>\n",
       "      <td>3.667679</td>\n",
       "    </tr>\n",
       "    <tr>\n",
       "      <th>2</th>\n",
       "      <td>3</td>\n",
       "      <td>0</td>\n",
       "      <td>45</td>\n",
       "      <td>1</td>\n",
       "      <td>1</td>\n",
       "      <td>42.319057</td>\n",
       "      <td>1</td>\n",
       "      <td>1</td>\n",
       "      <td>1</td>\n",
       "      <td>-6</td>\n",
       "      <td>...</td>\n",
       "      <td>6.269946</td>\n",
       "      <td>5.180325</td>\n",
       "      <td>20.867881</td>\n",
       "      <td>24.115867</td>\n",
       "      <td>6.473537</td>\n",
       "      <td>16.369411</td>\n",
       "      <td>4.476881</td>\n",
       "      <td>9.628369</td>\n",
       "      <td>15.981275</td>\n",
       "      <td>24.038266</td>\n",
       "    </tr>\n",
       "    <tr>\n",
       "      <th>3</th>\n",
       "      <td>4</td>\n",
       "      <td>0</td>\n",
       "      <td>45</td>\n",
       "      <td>1</td>\n",
       "      <td>1</td>\n",
       "      <td>25.628830</td>\n",
       "      <td>1</td>\n",
       "      <td>1</td>\n",
       "      <td>1</td>\n",
       "      <td>-6</td>\n",
       "      <td>...</td>\n",
       "      <td>6.269946</td>\n",
       "      <td>5.180325</td>\n",
       "      <td>22.018875</td>\n",
       "      <td>22.932641</td>\n",
       "      <td>6.473537</td>\n",
       "      <td>-5.169243</td>\n",
       "      <td>4.476881</td>\n",
       "      <td>9.628369</td>\n",
       "      <td>-6.303171</td>\n",
       "      <td>4.140511</td>\n",
       "    </tr>\n",
       "    <tr>\n",
       "      <th>4</th>\n",
       "      <td>5</td>\n",
       "      <td>-6</td>\n",
       "      <td>50</td>\n",
       "      <td>1</td>\n",
       "      <td>1</td>\n",
       "      <td>41.954487</td>\n",
       "      <td>2</td>\n",
       "      <td>1</td>\n",
       "      <td>1</td>\n",
       "      <td>-6</td>\n",
       "      <td>...</td>\n",
       "      <td>6.269946</td>\n",
       "      <td>5.180325</td>\n",
       "      <td>22.916602</td>\n",
       "      <td>22.988036</td>\n",
       "      <td>6.473537</td>\n",
       "      <td>-6.034660</td>\n",
       "      <td>4.476881</td>\n",
       "      <td>9.628369</td>\n",
       "      <td>-6.211828</td>\n",
       "      <td>3.668879</td>\n",
       "    </tr>\n",
       "  </tbody>\n",
       "</table>\n",
       "<p>5 rows × 10595 columns</p>\n",
       "</div>"
      ],
      "text/plain": [
       "   challengeID  cf1lenhr  cf1lenmin  cf1fint  cf1citsm   f1citywt  f1a2  f1a3  \\\n",
       "0            1        -9         -9        0        -9  -3.000000    -9    -9   \n",
       "1            2         0         40        1         1  68.455658     2     1   \n",
       "2            3         0         45        1         1  42.319057     1     1   \n",
       "3            4         0         45        1         1  25.628830     1     1   \n",
       "4            5        -6         50        1         1  41.954487     2     1   \n",
       "\n",
       "   f1a4  f1a4a  ...      m4d9      m4e23       f4d6       f4d7      f4d9  \\\n",
       "0    -9     -9  ...  6.269946   5.180325   2.511131   1.718804  6.473537   \n",
       "1     1     -6  ...  6.269946  27.680196   2.511131   1.718804  6.473537   \n",
       "2     1     -6  ...  6.269946   5.180325  20.867881  24.115867  6.473537   \n",
       "3     1     -6  ...  6.269946   5.180325  22.018875  22.932641  6.473537   \n",
       "4     1     -6  ...  6.269946   5.180325  22.916602  22.988036  6.473537   \n",
       "\n",
       "        m5c6      m5d20     m5k10       f5c6       k5f1  \n",
       "0  16.369411   4.476881  9.628369  15.981275  24.038266  \n",
       "1  16.369411  26.671897  9.628369  15.981275   3.667679  \n",
       "2  16.369411   4.476881  9.628369  15.981275  24.038266  \n",
       "3  -5.169243   4.476881  9.628369  -6.303171   4.140511  \n",
       "4  -6.034660   4.476881  9.628369  -6.211828   3.668879  \n",
       "\n",
       "[5 rows x 10595 columns]"
      ]
     },
     "execution_count": 3,
     "metadata": {},
     "output_type": "execute_result"
    }
   ],
   "source": [
    "# Read the constant variable file to get the column headers for constant variables. Remove the constant columns\n",
    "CONSTANT_VARIABLES_FILE = './input_files/ConstantVariables.txt'\n",
    "constant_vars = np.loadtxt(CONSTANT_VARIABLES_FILE, dtype='str').flatten()\n",
    "background_data.drop(constant_vars, axis=1, inplace=True)\n",
    "background_data.head()"
   ]
  },
  {
   "cell_type": "code",
   "execution_count": 4,
   "id": "24bf86dd-1577-4bb3-a1b1-581d1f0632b0",
   "metadata": {},
   "outputs": [
    {
     "data": {
      "text/html": [
       "<div>\n",
       "<style scoped>\n",
       "    .dataframe tbody tr th:only-of-type {\n",
       "        vertical-align: middle;\n",
       "    }\n",
       "\n",
       "    .dataframe tbody tr th {\n",
       "        vertical-align: top;\n",
       "    }\n",
       "\n",
       "    .dataframe thead th {\n",
       "        text-align: right;\n",
       "    }\n",
       "</style>\n",
       "<table border=\"1\" class=\"dataframe\">\n",
       "  <thead>\n",
       "    <tr style=\"text-align: right;\">\n",
       "      <th></th>\n",
       "      <th>challengeID</th>\n",
       "      <th>gpa</th>\n",
       "      <th>grit</th>\n",
       "      <th>materialHardship</th>\n",
       "      <th>eviction</th>\n",
       "      <th>layoff</th>\n",
       "      <th>jobTraining</th>\n",
       "    </tr>\n",
       "  </thead>\n",
       "  <tbody>\n",
       "    <tr>\n",
       "      <th>0</th>\n",
       "      <td>1</td>\n",
       "      <td>NaN</td>\n",
       "      <td>NaN</td>\n",
       "      <td>NaN</td>\n",
       "      <td>NaN</td>\n",
       "      <td>NaN</td>\n",
       "      <td>NaN</td>\n",
       "    </tr>\n",
       "    <tr>\n",
       "      <th>1</th>\n",
       "      <td>3</td>\n",
       "      <td>NaN</td>\n",
       "      <td>NaN</td>\n",
       "      <td>NaN</td>\n",
       "      <td>NaN</td>\n",
       "      <td>NaN</td>\n",
       "      <td>NaN</td>\n",
       "    </tr>\n",
       "    <tr>\n",
       "      <th>2</th>\n",
       "      <td>6</td>\n",
       "      <td>NaN</td>\n",
       "      <td>3.50</td>\n",
       "      <td>0.090909</td>\n",
       "      <td>0.0</td>\n",
       "      <td>0.0</td>\n",
       "      <td>0.0</td>\n",
       "    </tr>\n",
       "    <tr>\n",
       "      <th>3</th>\n",
       "      <td>7</td>\n",
       "      <td>2.5</td>\n",
       "      <td>3.25</td>\n",
       "      <td>0.000000</td>\n",
       "      <td>0.0</td>\n",
       "      <td>0.0</td>\n",
       "      <td>0.0</td>\n",
       "    </tr>\n",
       "    <tr>\n",
       "      <th>4</th>\n",
       "      <td>8</td>\n",
       "      <td>NaN</td>\n",
       "      <td>NaN</td>\n",
       "      <td>NaN</td>\n",
       "      <td>NaN</td>\n",
       "      <td>NaN</td>\n",
       "      <td>NaN</td>\n",
       "    </tr>\n",
       "  </tbody>\n",
       "</table>\n",
       "</div>"
      ],
      "text/plain": [
       "   challengeID  gpa  grit  materialHardship  eviction  layoff  jobTraining\n",
       "0            1  NaN   NaN               NaN       NaN     NaN          NaN\n",
       "1            3  NaN   NaN               NaN       NaN     NaN          NaN\n",
       "2            6  NaN  3.50          0.090909       0.0     0.0          0.0\n",
       "3            7  2.5  3.25          0.000000       0.0     0.0          0.0\n",
       "4            8  NaN   NaN               NaN       NaN     NaN          NaN"
      ]
     },
     "execution_count": 4,
     "metadata": {},
     "output_type": "execute_result"
    }
   ],
   "source": [
    "# Read the data set into a pandas dataframe\n",
    "OUTCOME_FILE= './input_files/train.csv'\n",
    "outcome_data = pd.read_csv(OUTCOME_FILE)\n",
    "outcome_data.head()"
   ]
  },
  {
   "cell_type": "code",
   "execution_count": 5,
   "id": "38b4c75b-4504-4627-bb1f-9b09b38b5e41",
   "metadata": {},
   "outputs": [
    {
     "data": {
      "text/html": [
       "<div>\n",
       "<style scoped>\n",
       "    .dataframe tbody tr th:only-of-type {\n",
       "        vertical-align: middle;\n",
       "    }\n",
       "\n",
       "    .dataframe tbody tr th {\n",
       "        vertical-align: top;\n",
       "    }\n",
       "\n",
       "    .dataframe thead th {\n",
       "        text-align: right;\n",
       "    }\n",
       "</style>\n",
       "<table border=\"1\" class=\"dataframe\">\n",
       "  <thead>\n",
       "    <tr style=\"text-align: right;\">\n",
       "      <th></th>\n",
       "      <th>challengeID</th>\n",
       "      <th>gpa</th>\n",
       "      <th>grit</th>\n",
       "      <th>materialHardship</th>\n",
       "      <th>eviction</th>\n",
       "      <th>layoff</th>\n",
       "      <th>jobTraining</th>\n",
       "    </tr>\n",
       "  </thead>\n",
       "  <tbody>\n",
       "    <tr>\n",
       "      <th>3</th>\n",
       "      <td>7</td>\n",
       "      <td>2.50</td>\n",
       "      <td>3.25</td>\n",
       "      <td>0.000000</td>\n",
       "      <td>0.0</td>\n",
       "      <td>0.0</td>\n",
       "      <td>0.0</td>\n",
       "    </tr>\n",
       "    <tr>\n",
       "      <th>5</th>\n",
       "      <td>9</td>\n",
       "      <td>2.25</td>\n",
       "      <td>4.00</td>\n",
       "      <td>0.181818</td>\n",
       "      <td>0.0</td>\n",
       "      <td>0.0</td>\n",
       "      <td>0.0</td>\n",
       "    </tr>\n",
       "    <tr>\n",
       "      <th>7</th>\n",
       "      <td>13</td>\n",
       "      <td>2.75</td>\n",
       "      <td>4.00</td>\n",
       "      <td>0.181818</td>\n",
       "      <td>0.0</td>\n",
       "      <td>0.0</td>\n",
       "      <td>1.0</td>\n",
       "    </tr>\n",
       "    <tr>\n",
       "      <th>8</th>\n",
       "      <td>14</td>\n",
       "      <td>3.25</td>\n",
       "      <td>2.75</td>\n",
       "      <td>0.272727</td>\n",
       "      <td>0.0</td>\n",
       "      <td>1.0</td>\n",
       "      <td>0.0</td>\n",
       "    </tr>\n",
       "    <tr>\n",
       "      <th>9</th>\n",
       "      <td>16</td>\n",
       "      <td>2.00</td>\n",
       "      <td>3.50</td>\n",
       "      <td>0.090909</td>\n",
       "      <td>0.0</td>\n",
       "      <td>0.0</td>\n",
       "      <td>1.0</td>\n",
       "    </tr>\n",
       "  </tbody>\n",
       "</table>\n",
       "</div>"
      ],
      "text/plain": [
       "   challengeID   gpa  grit  materialHardship  eviction  layoff  jobTraining\n",
       "3            7  2.50  3.25          0.000000       0.0     0.0          0.0\n",
       "5            9  2.25  4.00          0.181818       0.0     0.0          0.0\n",
       "7           13  2.75  4.00          0.181818       0.0     0.0          1.0\n",
       "8           14  3.25  2.75          0.272727       0.0     1.0          0.0\n",
       "9           16  2.00  3.50          0.090909       0.0     0.0          1.0"
      ]
     },
     "execution_count": 5,
     "metadata": {},
     "output_type": "execute_result"
    }
   ],
   "source": [
    "# Remove NaNs\n",
    "outcome_data.dropna(inplace=True, axis=0)\n",
    "outcome_data.head()"
   ]
  },
  {
   "cell_type": "code",
   "execution_count": 6,
   "id": "3be66813-14dc-4606-8035-1c204c9261b7",
   "metadata": {},
   "outputs": [
    {
     "data": {
      "image/png": "[encoded data removed]",
      "text/plain": [
       "<Figure size 960x480 with 6 Axes>"
      ]
     },
     "metadata": {},
     "output_type": "display_data"
    }
   ],
   "source": [
    "# Visualize the data using pair-plot\n",
    "import matplotlib.pyplot as plt\n",
    "%matplotlib inline\n",
    "\n",
    "# Plot the histogram of continuous labels\n",
    "hist_continuos = (outcome_data[['gpa', 'grit', 'materialHardship']]).hist(bins=10, figsize=(9.6, 4.8), layout = (2, 3))"
   ]
  },
  {
   "cell_type": "code",
   "execution_count": 7,
   "id": "edf5d1a0-2e9f-4c23-ada4-429e237039df",
   "metadata": {},
   "outputs": [
    {
     "data": {
      "image/png": "[encoded data removed]",
      "text/plain": [
       "<Figure size 960x480 with 6 Axes>"
      ]
     },
     "metadata": {},
     "output_type": "display_data"
    }
   ],
   "source": [
    "# Plot the histogram of binary labels\n",
    "hist_binary = (outcome_data[['eviction', 'layoff', 'jobTraining']]).hist(bins=2, figsize=(9.6, 4.8), layout = (2, 3))"
   ]
  },
  {
   "cell_type": "markdown",
   "id": "9f59aa94-96c2-4e56-a13d-4325f8942ed0",
   "metadata": {},
   "source": [
    "### NOTE: From the above histogram it can be expected that for the classification problem, the classes are not balanced"
   ]
  },
  {
   "cell_type": "markdown",
   "id": "f6c8ac62-e504-42f2-830e-8be60fc56512",
   "metadata": {},
   "source": [
    "## GPA prediction\n",
    "\n",
    "The approach we would follow in this project is to predict one outcome at a time. As a first step we would focus on predicting the GPA from the survey data. Since we no longer have access to the leaderboard (the competition is closed), we would split the complete data set into training and test data sets"
   ]
  },
  {
   "cell_type": "code",
   "execution_count": 8,
   "id": "34dd6f93-c86a-4f85-971c-b1a1f9045f4c",
   "metadata": {},
   "outputs": [
    {
     "data": {
      "text/html": [
       "<div>\n",
       "<style scoped>\n",
       "    .dataframe tbody tr th:only-of-type {\n",
       "        vertical-align: middle;\n",
       "    }\n",
       "\n",
       "    .dataframe tbody tr th {\n",
       "        vertical-align: top;\n",
       "    }\n",
       "\n",
       "    .dataframe thead th {\n",
       "        text-align: right;\n",
       "    }\n",
       "</style>\n",
       "<table border=\"1\" class=\"dataframe\">\n",
       "  <thead>\n",
       "    <tr style=\"text-align: right;\">\n",
       "      <th></th>\n",
       "      <th>challengeID</th>\n",
       "      <th>gpa</th>\n",
       "    </tr>\n",
       "  </thead>\n",
       "  <tbody>\n",
       "    <tr>\n",
       "      <th>3</th>\n",
       "      <td>7</td>\n",
       "      <td>2.50</td>\n",
       "    </tr>\n",
       "    <tr>\n",
       "      <th>5</th>\n",
       "      <td>9</td>\n",
       "      <td>2.25</td>\n",
       "    </tr>\n",
       "    <tr>\n",
       "      <th>6</th>\n",
       "      <td>10</td>\n",
       "      <td>3.25</td>\n",
       "    </tr>\n",
       "    <tr>\n",
       "      <th>7</th>\n",
       "      <td>13</td>\n",
       "      <td>2.75</td>\n",
       "    </tr>\n",
       "    <tr>\n",
       "      <th>8</th>\n",
       "      <td>14</td>\n",
       "      <td>3.25</td>\n",
       "    </tr>\n",
       "  </tbody>\n",
       "</table>\n",
       "</div>"
      ],
      "text/plain": [
       "   challengeID   gpa\n",
       "3            7  2.50\n",
       "5            9  2.25\n",
       "6           10  3.25\n",
       "7           13  2.75\n",
       "8           14  3.25"
      ]
     },
     "metadata": {},
     "output_type": "display_data"
    },
    {
     "data": {
      "text/html": [
       "<div>\n",
       "<style scoped>\n",
       "    .dataframe tbody tr th:only-of-type {\n",
       "        vertical-align: middle;\n",
       "    }\n",
       "\n",
       "    .dataframe tbody tr th {\n",
       "        vertical-align: top;\n",
       "    }\n",
       "\n",
       "    .dataframe thead th {\n",
       "        text-align: right;\n",
       "    }\n",
       "</style>\n",
       "<table border=\"1\" class=\"dataframe\">\n",
       "  <thead>\n",
       "    <tr style=\"text-align: right;\">\n",
       "      <th></th>\n",
       "      <th>challengeID</th>\n",
       "      <th>cf1lenhr</th>\n",
       "      <th>cf1lenmin</th>\n",
       "      <th>cf1fint</th>\n",
       "      <th>cf1citsm</th>\n",
       "      <th>f1citywt</th>\n",
       "      <th>f1a2</th>\n",
       "      <th>f1a3</th>\n",
       "      <th>f1a4</th>\n",
       "      <th>f1a4a</th>\n",
       "      <th>...</th>\n",
       "      <th>m4e23</th>\n",
       "      <th>f4d6</th>\n",
       "      <th>f4d7</th>\n",
       "      <th>f4d9</th>\n",
       "      <th>m5c6</th>\n",
       "      <th>m5d20</th>\n",
       "      <th>m5k10</th>\n",
       "      <th>f5c6</th>\n",
       "      <th>k5f1</th>\n",
       "      <th>gpa</th>\n",
       "    </tr>\n",
       "  </thead>\n",
       "  <tbody>\n",
       "    <tr>\n",
       "      <th>0</th>\n",
       "      <td>7</td>\n",
       "      <td>0</td>\n",
       "      <td>45</td>\n",
       "      <td>1</td>\n",
       "      <td>1</td>\n",
       "      <td>706.841492</td>\n",
       "      <td>1</td>\n",
       "      <td>1</td>\n",
       "      <td>1</td>\n",
       "      <td>-6</td>\n",
       "      <td>...</td>\n",
       "      <td>5.180325</td>\n",
       "      <td>22.307181</td>\n",
       "      <td>23.471265</td>\n",
       "      <td>6.473537</td>\n",
       "      <td>-5.424175</td>\n",
       "      <td>4.476881</td>\n",
       "      <td>9.628369</td>\n",
       "      <td>-5.812319</td>\n",
       "      <td>4.627115</td>\n",
       "      <td>2.50</td>\n",
       "    </tr>\n",
       "    <tr>\n",
       "      <th>1</th>\n",
       "      <td>9</td>\n",
       "      <td>-3</td>\n",
       "      <td>55</td>\n",
       "      <td>1</td>\n",
       "      <td>1</td>\n",
       "      <td>100.403282</td>\n",
       "      <td>1</td>\n",
       "      <td>1</td>\n",
       "      <td>1</td>\n",
       "      <td>-6</td>\n",
       "      <td>...</td>\n",
       "      <td>5.180325</td>\n",
       "      <td>23.558317</td>\n",
       "      <td>22.970998</td>\n",
       "      <td>6.473537</td>\n",
       "      <td>-5.648850</td>\n",
       "      <td>4.476881</td>\n",
       "      <td>9.628369</td>\n",
       "      <td>-5.967682</td>\n",
       "      <td>3.424922</td>\n",
       "      <td>2.25</td>\n",
       "    </tr>\n",
       "    <tr>\n",
       "      <th>2</th>\n",
       "      <td>10</td>\n",
       "      <td>0</td>\n",
       "      <td>45</td>\n",
       "      <td>1</td>\n",
       "      <td>1</td>\n",
       "      <td>7.728454</td>\n",
       "      <td>1</td>\n",
       "      <td>1</td>\n",
       "      <td>1</td>\n",
       "      <td>-6</td>\n",
       "      <td>...</td>\n",
       "      <td>5.180325</td>\n",
       "      <td>2.511131</td>\n",
       "      <td>1.718804</td>\n",
       "      <td>6.473537</td>\n",
       "      <td>16.369411</td>\n",
       "      <td>26.287101</td>\n",
       "      <td>9.628369</td>\n",
       "      <td>15.981275</td>\n",
       "      <td>4.151350</td>\n",
       "      <td>3.25</td>\n",
       "    </tr>\n",
       "    <tr>\n",
       "      <th>3</th>\n",
       "      <td>13</td>\n",
       "      <td>0</td>\n",
       "      <td>55</td>\n",
       "      <td>1</td>\n",
       "      <td>1</td>\n",
       "      <td>7.735482</td>\n",
       "      <td>1</td>\n",
       "      <td>1</td>\n",
       "      <td>1</td>\n",
       "      <td>-6</td>\n",
       "      <td>...</td>\n",
       "      <td>5.180325</td>\n",
       "      <td>2.511131</td>\n",
       "      <td>1.718804</td>\n",
       "      <td>28.736545</td>\n",
       "      <td>16.369411</td>\n",
       "      <td>26.216141</td>\n",
       "      <td>9.628369</td>\n",
       "      <td>15.981275</td>\n",
       "      <td>3.424922</td>\n",
       "      <td>2.75</td>\n",
       "    </tr>\n",
       "    <tr>\n",
       "      <th>4</th>\n",
       "      <td>14</td>\n",
       "      <td>0</td>\n",
       "      <td>40</td>\n",
       "      <td>1</td>\n",
       "      <td>1</td>\n",
       "      <td>203.355545</td>\n",
       "      <td>1</td>\n",
       "      <td>1</td>\n",
       "      <td>1</td>\n",
       "      <td>-6</td>\n",
       "      <td>...</td>\n",
       "      <td>5.180325</td>\n",
       "      <td>23.199550</td>\n",
       "      <td>23.514938</td>\n",
       "      <td>6.473537</td>\n",
       "      <td>-5.152093</td>\n",
       "      <td>4.476881</td>\n",
       "      <td>9.628369</td>\n",
       "      <td>-5.560125</td>\n",
       "      <td>3.662207</td>\n",
       "      <td>3.25</td>\n",
       "    </tr>\n",
       "  </tbody>\n",
       "</table>\n",
       "<p>5 rows × 10481 columns</p>\n",
       "</div>"
      ],
      "text/plain": [
       "   challengeID  cf1lenhr  cf1lenmin  cf1fint  cf1citsm    f1citywt  f1a2  \\\n",
       "0            7         0         45        1         1  706.841492     1   \n",
       "1            9        -3         55        1         1  100.403282     1   \n",
       "2           10         0         45        1         1    7.728454     1   \n",
       "3           13         0         55        1         1    7.735482     1   \n",
       "4           14         0         40        1         1  203.355545     1   \n",
       "\n",
       "   f1a3  f1a4  f1a4a  ...     m4e23       f4d6       f4d7       f4d9  \\\n",
       "0     1     1     -6  ...  5.180325  22.307181  23.471265   6.473537   \n",
       "1     1     1     -6  ...  5.180325  23.558317  22.970998   6.473537   \n",
       "2     1     1     -6  ...  5.180325   2.511131   1.718804   6.473537   \n",
       "3     1     1     -6  ...  5.180325   2.511131   1.718804  28.736545   \n",
       "4     1     1     -6  ...  5.180325  23.199550  23.514938   6.473537   \n",
       "\n",
       "        m5c6      m5d20     m5k10       f5c6      k5f1   gpa  \n",
       "0  -5.424175   4.476881  9.628369  -5.812319  4.627115  2.50  \n",
       "1  -5.648850   4.476881  9.628369  -5.967682  3.424922  2.25  \n",
       "2  16.369411  26.287101  9.628369  15.981275  4.151350  3.25  \n",
       "3  16.369411  26.216141  9.628369  15.981275  3.424922  2.75  \n",
       "4  -5.152093   4.476881  9.628369  -5.560125  3.662207  3.25  \n",
       "\n",
       "[5 rows x 10481 columns]"
      ]
     },
     "execution_count": 8,
     "metadata": {},
     "output_type": "execute_result"
    }
   ],
   "source": [
    "# complete_gpa_datasetonly those rows in the background dataframe for which we have labeled gpa outcomes\n",
    "gpa_outcome = (pd.read_csv(OUTCOME_FILE, usecols=['challengeID', 'gpa']))\n",
    "gpa_outcome.dropna(inplace=True, axis=0)\n",
    "\n",
    "display(gpa_outcome.head())\n",
    "complete_gpa_dataset =pd.merge(background_data, gpa_outcome, how='inner', on=['challengeID'])\n",
    "complete_gpa_dataset.dropna(inplace=True, axis=1)\n",
    "complete_gpa_dataset.head()"
   ]
  },
  {
   "cell_type": "code",
   "execution_count": 9,
   "id": "4e00ed43-00fe-46b2-b0f7-eb67f1c1fc00",
   "metadata": {},
   "outputs": [
    {
     "name": "stdout",
     "output_type": "stream",
     "text": [
      "<class 'pandas.core.frame.DataFrame'>\n",
      "Int64Index: 1165 entries, 0 to 1164\n",
      "Columns: 10481 entries, challengeID to gpa\n",
      "dtypes: float64(541), int64(9939), object(1)\n",
      "memory usage: 93.2+ MB\n"
     ]
    }
   ],
   "source": [
    "complete_gpa_dataset.info()"
   ]
  },
  {
   "cell_type": "markdown",
   "id": "625ab309-000d-4fd0-98e2-9e0d81a65a34",
   "metadata": {},
   "source": [
    "### Note: We find that one feature is of type 'object' which is likely to be string. Let us explore that"
   ]
  },
  {
   "cell_type": "code",
   "execution_count": 10,
   "id": "96ef3ed3-eb67-4b2e-914c-9368c4061a60",
   "metadata": {},
   "outputs": [
    {
     "data": {
      "text/html": [
       "<div>\n",
       "<style scoped>\n",
       "    .dataframe tbody tr th:only-of-type {\n",
       "        vertical-align: middle;\n",
       "    }\n",
       "\n",
       "    .dataframe tbody tr th {\n",
       "        vertical-align: top;\n",
       "    }\n",
       "\n",
       "    .dataframe thead th {\n",
       "        text-align: right;\n",
       "    }\n",
       "</style>\n",
       "<table border=\"1\" class=\"dataframe\">\n",
       "  <thead>\n",
       "    <tr style=\"text-align: right;\">\n",
       "      <th></th>\n",
       "      <th>cf4fint</th>\n",
       "    </tr>\n",
       "  </thead>\n",
       "  <tbody>\n",
       "    <tr>\n",
       "      <th>0</th>\n",
       "      <td>1960-01-02</td>\n",
       "    </tr>\n",
       "    <tr>\n",
       "      <th>1</th>\n",
       "      <td>1960-01-02</td>\n",
       "    </tr>\n",
       "    <tr>\n",
       "      <th>2</th>\n",
       "      <td>1960-01-02</td>\n",
       "    </tr>\n",
       "    <tr>\n",
       "      <th>3</th>\n",
       "      <td>1960-01-02</td>\n",
       "    </tr>\n",
       "    <tr>\n",
       "      <th>4</th>\n",
       "      <td>1960-01-02</td>\n",
       "    </tr>\n",
       "  </tbody>\n",
       "</table>\n",
       "</div>"
      ],
      "text/plain": [
       "      cf4fint\n",
       "0  1960-01-02\n",
       "1  1960-01-02\n",
       "2  1960-01-02\n",
       "3  1960-01-02\n",
       "4  1960-01-02"
      ]
     },
     "metadata": {},
     "output_type": "display_data"
    },
    {
     "name": "stdout",
     "output_type": "stream",
     "text": [
      "['1960-01-02' '1960-01-01']\n"
     ]
    }
   ],
   "source": [
    "# We identify columns with non-numeric values to decide whether to keep them or not\n",
    "str_cols = [col for col in complete_gpa_dataset.columns if complete_gpa_dataset[col].dtype == 'object']\n",
    "str_type_cols = complete_gpa_dataset[str_cols].copy()\n",
    "display(str_type_cols.head())\n",
    "\n",
    "print(str_type_cols['cf4fint'].unique())\n",
    "\n",
    "# "
   ]
  },
  {
   "cell_type": "markdown",
   "id": "498b6d69-71b8-4dd0-b459-137c835d06c7",
   "metadata": {},
   "source": [
    "Since the column is simply the date on which the father was interviewed, it is probably not useful so we can drop it"
   ]
  },
  {
   "cell_type": "code",
   "execution_count": 11,
   "id": "f392d934-acc6-4c12-a170-c025d396f030",
   "metadata": {},
   "outputs": [
    {
     "data": {
      "text/html": [
       "<div>\n",
       "<style scoped>\n",
       "    .dataframe tbody tr th:only-of-type {\n",
       "        vertical-align: middle;\n",
       "    }\n",
       "\n",
       "    .dataframe tbody tr th {\n",
       "        vertical-align: top;\n",
       "    }\n",
       "\n",
       "    .dataframe thead th {\n",
       "        text-align: right;\n",
       "    }\n",
       "</style>\n",
       "<table border=\"1\" class=\"dataframe\">\n",
       "  <thead>\n",
       "    <tr style=\"text-align: right;\">\n",
       "      <th></th>\n",
       "      <th>cf1lenhr</th>\n",
       "      <th>cf1lenmin</th>\n",
       "      <th>cf1fint</th>\n",
       "      <th>cf1citsm</th>\n",
       "      <th>f1citywt</th>\n",
       "      <th>f1a2</th>\n",
       "      <th>f1a3</th>\n",
       "      <th>f1a4</th>\n",
       "      <th>f1a4a</th>\n",
       "      <th>f1a5</th>\n",
       "      <th>...</th>\n",
       "      <th>m4d9</th>\n",
       "      <th>m4e23</th>\n",
       "      <th>f4d6</th>\n",
       "      <th>f4d7</th>\n",
       "      <th>f4d9</th>\n",
       "      <th>m5c6</th>\n",
       "      <th>m5d20</th>\n",
       "      <th>m5k10</th>\n",
       "      <th>f5c6</th>\n",
       "      <th>k5f1</th>\n",
       "    </tr>\n",
       "  </thead>\n",
       "  <tbody>\n",
       "    <tr>\n",
       "      <th>0</th>\n",
       "      <td>0</td>\n",
       "      <td>45</td>\n",
       "      <td>1</td>\n",
       "      <td>1</td>\n",
       "      <td>706.841492</td>\n",
       "      <td>1</td>\n",
       "      <td>1</td>\n",
       "      <td>1</td>\n",
       "      <td>-6</td>\n",
       "      <td>-2</td>\n",
       "      <td>...</td>\n",
       "      <td>6.269946</td>\n",
       "      <td>5.180325</td>\n",
       "      <td>22.307181</td>\n",
       "      <td>23.471265</td>\n",
       "      <td>6.473537</td>\n",
       "      <td>-5.424175</td>\n",
       "      <td>4.476881</td>\n",
       "      <td>9.628369</td>\n",
       "      <td>-5.812319</td>\n",
       "      <td>4.627115</td>\n",
       "    </tr>\n",
       "    <tr>\n",
       "      <th>1</th>\n",
       "      <td>-3</td>\n",
       "      <td>55</td>\n",
       "      <td>1</td>\n",
       "      <td>1</td>\n",
       "      <td>100.403282</td>\n",
       "      <td>1</td>\n",
       "      <td>1</td>\n",
       "      <td>1</td>\n",
       "      <td>-6</td>\n",
       "      <td>1</td>\n",
       "      <td>...</td>\n",
       "      <td>6.269946</td>\n",
       "      <td>5.180325</td>\n",
       "      <td>23.558317</td>\n",
       "      <td>22.970998</td>\n",
       "      <td>6.473537</td>\n",
       "      <td>-5.648850</td>\n",
       "      <td>4.476881</td>\n",
       "      <td>9.628369</td>\n",
       "      <td>-5.967682</td>\n",
       "      <td>3.424922</td>\n",
       "    </tr>\n",
       "    <tr>\n",
       "      <th>2</th>\n",
       "      <td>0</td>\n",
       "      <td>45</td>\n",
       "      <td>1</td>\n",
       "      <td>1</td>\n",
       "      <td>7.728454</td>\n",
       "      <td>1</td>\n",
       "      <td>1</td>\n",
       "      <td>1</td>\n",
       "      <td>-6</td>\n",
       "      <td>1</td>\n",
       "      <td>...</td>\n",
       "      <td>6.269946</td>\n",
       "      <td>5.180325</td>\n",
       "      <td>2.511131</td>\n",
       "      <td>1.718804</td>\n",
       "      <td>6.473537</td>\n",
       "      <td>16.369411</td>\n",
       "      <td>26.287101</td>\n",
       "      <td>9.628369</td>\n",
       "      <td>15.981275</td>\n",
       "      <td>4.151350</td>\n",
       "    </tr>\n",
       "    <tr>\n",
       "      <th>3</th>\n",
       "      <td>0</td>\n",
       "      <td>55</td>\n",
       "      <td>1</td>\n",
       "      <td>1</td>\n",
       "      <td>7.735482</td>\n",
       "      <td>1</td>\n",
       "      <td>1</td>\n",
       "      <td>1</td>\n",
       "      <td>-6</td>\n",
       "      <td>1</td>\n",
       "      <td>...</td>\n",
       "      <td>29.259295</td>\n",
       "      <td>5.180325</td>\n",
       "      <td>2.511131</td>\n",
       "      <td>1.718804</td>\n",
       "      <td>28.736545</td>\n",
       "      <td>16.369411</td>\n",
       "      <td>26.216141</td>\n",
       "      <td>9.628369</td>\n",
       "      <td>15.981275</td>\n",
       "      <td>3.424922</td>\n",
       "    </tr>\n",
       "    <tr>\n",
       "      <th>4</th>\n",
       "      <td>0</td>\n",
       "      <td>40</td>\n",
       "      <td>1</td>\n",
       "      <td>1</td>\n",
       "      <td>203.355545</td>\n",
       "      <td>1</td>\n",
       "      <td>1</td>\n",
       "      <td>1</td>\n",
       "      <td>-6</td>\n",
       "      <td>1</td>\n",
       "      <td>...</td>\n",
       "      <td>6.269946</td>\n",
       "      <td>5.180325</td>\n",
       "      <td>23.199550</td>\n",
       "      <td>23.514938</td>\n",
       "      <td>6.473537</td>\n",
       "      <td>-5.152093</td>\n",
       "      <td>4.476881</td>\n",
       "      <td>9.628369</td>\n",
       "      <td>-5.560125</td>\n",
       "      <td>3.662207</td>\n",
       "    </tr>\n",
       "  </tbody>\n",
       "</table>\n",
       "<p>5 rows × 10478 columns</p>\n",
       "</div>"
      ],
      "text/plain": [
       "   cf1lenhr  cf1lenmin  cf1fint  cf1citsm    f1citywt  f1a2  f1a3  f1a4  \\\n",
       "0         0         45        1         1  706.841492     1     1     1   \n",
       "1        -3         55        1         1  100.403282     1     1     1   \n",
       "2         0         45        1         1    7.728454     1     1     1   \n",
       "3         0         55        1         1    7.735482     1     1     1   \n",
       "4         0         40        1         1  203.355545     1     1     1   \n",
       "\n",
       "   f1a4a  f1a5  ...       m4d9     m4e23       f4d6       f4d7       f4d9  \\\n",
       "0     -6    -2  ...   6.269946  5.180325  22.307181  23.471265   6.473537   \n",
       "1     -6     1  ...   6.269946  5.180325  23.558317  22.970998   6.473537   \n",
       "2     -6     1  ...   6.269946  5.180325   2.511131   1.718804   6.473537   \n",
       "3     -6     1  ...  29.259295  5.180325   2.511131   1.718804  28.736545   \n",
       "4     -6     1  ...   6.269946  5.180325  23.199550  23.514938   6.473537   \n",
       "\n",
       "        m5c6      m5d20     m5k10       f5c6      k5f1  \n",
       "0  -5.424175   4.476881  9.628369  -5.812319  4.627115  \n",
       "1  -5.648850   4.476881  9.628369  -5.967682  3.424922  \n",
       "2  16.369411  26.287101  9.628369  15.981275  4.151350  \n",
       "3  16.369411  26.216141  9.628369  15.981275  3.424922  \n",
       "4  -5.152093   4.476881  9.628369  -5.560125  3.662207  \n",
       "\n",
       "[5 rows x 10478 columns]"
      ]
     },
     "metadata": {},
     "output_type": "display_data"
    },
    {
     "data": {
      "text/plain": [
       "0    2.50\n",
       "1    2.25\n",
       "2    3.25\n",
       "3    2.75\n",
       "4    3.25\n",
       "Name: gpa, dtype: float64"
      ]
     },
     "metadata": {},
     "output_type": "display_data"
    }
   ],
   "source": [
    "# Split the complete data set into features and labels\n",
    "X = (complete_gpa_dataset.iloc[:,1:-1].copy()).drop(str_cols, axis=1)\n",
    "y = complete_gpa_dataset.iloc[:,-1].copy()\n",
    "display(X.head())\n",
    "display(y.head())"
   ]
  },
  {
   "cell_type": "code",
   "execution_count": 12,
   "id": "824be9cf-c930-47ee-b20b-617a3ee95385",
   "metadata": {},
   "outputs": [],
   "source": [
    "from sklearn.model_selection import train_test_split\n",
    "X_train, X_test, y_train, y_test = train_test_split(X, y, test_size=0.2, random_state=0)"
   ]
  },
  {
   "cell_type": "code",
   "execution_count": 13,
   "id": "2afe7d6b-0696-4ddf-bafd-8f7733607571",
   "metadata": {},
   "outputs": [
    {
     "data": {
      "text/html": [
       "<div>\n",
       "<style scoped>\n",
       "    .dataframe tbody tr th:only-of-type {\n",
       "        vertical-align: middle;\n",
       "    }\n",
       "\n",
       "    .dataframe tbody tr th {\n",
       "        vertical-align: top;\n",
       "    }\n",
       "\n",
       "    .dataframe thead th {\n",
       "        text-align: right;\n",
       "    }\n",
       "</style>\n",
       "<table border=\"1\" class=\"dataframe\">\n",
       "  <thead>\n",
       "    <tr style=\"text-align: right;\">\n",
       "      <th></th>\n",
       "      <th>cf1lenhr</th>\n",
       "      <th>cf1lenmin</th>\n",
       "      <th>cf1fint</th>\n",
       "      <th>cf1citsm</th>\n",
       "      <th>f1citywt</th>\n",
       "      <th>f1a2</th>\n",
       "      <th>f1a3</th>\n",
       "      <th>f1a4</th>\n",
       "      <th>f1a4a</th>\n",
       "      <th>f1a5</th>\n",
       "      <th>...</th>\n",
       "      <th>m4d9</th>\n",
       "      <th>m4e23</th>\n",
       "      <th>f4d6</th>\n",
       "      <th>f4d7</th>\n",
       "      <th>f4d9</th>\n",
       "      <th>m5c6</th>\n",
       "      <th>m5d20</th>\n",
       "      <th>m5k10</th>\n",
       "      <th>f5c6</th>\n",
       "      <th>k5f1</th>\n",
       "    </tr>\n",
       "  </thead>\n",
       "  <tbody>\n",
       "    <tr>\n",
       "      <th>523</th>\n",
       "      <td>-9</td>\n",
       "      <td>-9</td>\n",
       "      <td>0</td>\n",
       "      <td>-9</td>\n",
       "      <td>-3.000000</td>\n",
       "      <td>-9</td>\n",
       "      <td>-9</td>\n",
       "      <td>-9</td>\n",
       "      <td>-9</td>\n",
       "      <td>-9</td>\n",
       "      <td>...</td>\n",
       "      <td>6.269946</td>\n",
       "      <td>5.180325</td>\n",
       "      <td>2.511131</td>\n",
       "      <td>1.718804</td>\n",
       "      <td>6.473537</td>\n",
       "      <td>16.369411</td>\n",
       "      <td>27.244011</td>\n",
       "      <td>9.628369</td>\n",
       "      <td>15.981275</td>\n",
       "      <td>3.656543</td>\n",
       "    </tr>\n",
       "    <tr>\n",
       "      <th>295</th>\n",
       "      <td>0</td>\n",
       "      <td>45</td>\n",
       "      <td>1</td>\n",
       "      <td>1</td>\n",
       "      <td>77.424721</td>\n",
       "      <td>1</td>\n",
       "      <td>1</td>\n",
       "      <td>1</td>\n",
       "      <td>-6</td>\n",
       "      <td>1</td>\n",
       "      <td>...</td>\n",
       "      <td>28.736879</td>\n",
       "      <td>26.990283</td>\n",
       "      <td>2.511131</td>\n",
       "      <td>1.718804</td>\n",
       "      <td>28.532858</td>\n",
       "      <td>16.369411</td>\n",
       "      <td>26.479213</td>\n",
       "      <td>9.628369</td>\n",
       "      <td>15.981275</td>\n",
       "      <td>4.623460</td>\n",
       "    </tr>\n",
       "    <tr>\n",
       "      <th>916</th>\n",
       "      <td>0</td>\n",
       "      <td>45</td>\n",
       "      <td>1</td>\n",
       "      <td>1</td>\n",
       "      <td>10.359114</td>\n",
       "      <td>1</td>\n",
       "      <td>1</td>\n",
       "      <td>1</td>\n",
       "      <td>-6</td>\n",
       "      <td>1</td>\n",
       "      <td>...</td>\n",
       "      <td>6.269946</td>\n",
       "      <td>5.180325</td>\n",
       "      <td>19.409765</td>\n",
       "      <td>23.514938</td>\n",
       "      <td>6.473537</td>\n",
       "      <td>16.369411</td>\n",
       "      <td>4.476881</td>\n",
       "      <td>9.628369</td>\n",
       "      <td>15.981275</td>\n",
       "      <td>3.424922</td>\n",
       "    </tr>\n",
       "    <tr>\n",
       "      <th>851</th>\n",
       "      <td>-6</td>\n",
       "      <td>-6</td>\n",
       "      <td>1</td>\n",
       "      <td>1</td>\n",
       "      <td>15.775953</td>\n",
       "      <td>2</td>\n",
       "      <td>1</td>\n",
       "      <td>1</td>\n",
       "      <td>-6</td>\n",
       "      <td>1</td>\n",
       "      <td>...</td>\n",
       "      <td>6.269946</td>\n",
       "      <td>5.180325</td>\n",
       "      <td>2.511131</td>\n",
       "      <td>1.718804</td>\n",
       "      <td>6.473537</td>\n",
       "      <td>16.369411</td>\n",
       "      <td>26.024030</td>\n",
       "      <td>9.628369</td>\n",
       "      <td>15.981275</td>\n",
       "      <td>3.656543</td>\n",
       "    </tr>\n",
       "    <tr>\n",
       "      <th>97</th>\n",
       "      <td>0</td>\n",
       "      <td>48</td>\n",
       "      <td>1</td>\n",
       "      <td>1</td>\n",
       "      <td>19.284414</td>\n",
       "      <td>1</td>\n",
       "      <td>1</td>\n",
       "      <td>1</td>\n",
       "      <td>-6</td>\n",
       "      <td>1</td>\n",
       "      <td>...</td>\n",
       "      <td>6.269946</td>\n",
       "      <td>26.990283</td>\n",
       "      <td>2.511131</td>\n",
       "      <td>1.718804</td>\n",
       "      <td>6.473537</td>\n",
       "      <td>16.369411</td>\n",
       "      <td>26.287101</td>\n",
       "      <td>9.628369</td>\n",
       "      <td>15.981275</td>\n",
       "      <td>3.424922</td>\n",
       "    </tr>\n",
       "  </tbody>\n",
       "</table>\n",
       "<p>5 rows × 10478 columns</p>\n",
       "</div>"
      ],
      "text/plain": [
       "     cf1lenhr  cf1lenmin  cf1fint  cf1citsm   f1citywt  f1a2  f1a3  f1a4  \\\n",
       "523        -9         -9        0        -9  -3.000000    -9    -9    -9   \n",
       "295         0         45        1         1  77.424721     1     1     1   \n",
       "916         0         45        1         1  10.359114     1     1     1   \n",
       "851        -6         -6        1         1  15.775953     2     1     1   \n",
       "97          0         48        1         1  19.284414     1     1     1   \n",
       "\n",
       "     f1a4a  f1a5  ...       m4d9      m4e23       f4d6       f4d7       f4d9  \\\n",
       "523     -9    -9  ...   6.269946   5.180325   2.511131   1.718804   6.473537   \n",
       "295     -6     1  ...  28.736879  26.990283   2.511131   1.718804  28.532858   \n",
       "916     -6     1  ...   6.269946   5.180325  19.409765  23.514938   6.473537   \n",
       "851     -6     1  ...   6.269946   5.180325   2.511131   1.718804   6.473537   \n",
       "97      -6     1  ...   6.269946  26.990283   2.511131   1.718804   6.473537   \n",
       "\n",
       "          m5c6      m5d20     m5k10       f5c6      k5f1  \n",
       "523  16.369411  27.244011  9.628369  15.981275  3.656543  \n",
       "295  16.369411  26.479213  9.628369  15.981275  4.623460  \n",
       "916  16.369411   4.476881  9.628369  15.981275  3.424922  \n",
       "851  16.369411  26.024030  9.628369  15.981275  3.656543  \n",
       "97   16.369411  26.287101  9.628369  15.981275  3.424922  \n",
       "\n",
       "[5 rows x 10478 columns]"
      ]
     },
     "metadata": {},
     "output_type": "display_data"
    },
    {
     "data": {
      "text/html": [
       "<div>\n",
       "<style scoped>\n",
       "    .dataframe tbody tr th:only-of-type {\n",
       "        vertical-align: middle;\n",
       "    }\n",
       "\n",
       "    .dataframe tbody tr th {\n",
       "        vertical-align: top;\n",
       "    }\n",
       "\n",
       "    .dataframe thead th {\n",
       "        text-align: right;\n",
       "    }\n",
       "</style>\n",
       "<table border=\"1\" class=\"dataframe\">\n",
       "  <thead>\n",
       "    <tr style=\"text-align: right;\">\n",
       "      <th></th>\n",
       "      <th>cf1lenhr</th>\n",
       "      <th>cf1lenmin</th>\n",
       "      <th>cf1fint</th>\n",
       "      <th>cf1citsm</th>\n",
       "      <th>f1citywt</th>\n",
       "      <th>f1a2</th>\n",
       "      <th>f1a3</th>\n",
       "      <th>f1a4</th>\n",
       "      <th>f1a4a</th>\n",
       "      <th>f1a5</th>\n",
       "      <th>...</th>\n",
       "      <th>m4d9</th>\n",
       "      <th>m4e23</th>\n",
       "      <th>f4d6</th>\n",
       "      <th>f4d7</th>\n",
       "      <th>f4d9</th>\n",
       "      <th>m5c6</th>\n",
       "      <th>m5d20</th>\n",
       "      <th>m5k10</th>\n",
       "      <th>f5c6</th>\n",
       "      <th>k5f1</th>\n",
       "    </tr>\n",
       "  </thead>\n",
       "  <tbody>\n",
       "    <tr>\n",
       "      <th>918</th>\n",
       "      <td>0</td>\n",
       "      <td>39</td>\n",
       "      <td>1</td>\n",
       "      <td>1</td>\n",
       "      <td>41.400322</td>\n",
       "      <td>1</td>\n",
       "      <td>1</td>\n",
       "      <td>-3</td>\n",
       "      <td>2</td>\n",
       "      <td>2</td>\n",
       "      <td>...</td>\n",
       "      <td>6.269946</td>\n",
       "      <td>26.990283</td>\n",
       "      <td>2.511131</td>\n",
       "      <td>1.718804</td>\n",
       "      <td>6.473537</td>\n",
       "      <td>16.369411</td>\n",
       "      <td>26.287101</td>\n",
       "      <td>9.628369</td>\n",
       "      <td>15.981275</td>\n",
       "      <td>5.843237</td>\n",
       "    </tr>\n",
       "    <tr>\n",
       "      <th>592</th>\n",
       "      <td>0</td>\n",
       "      <td>45</td>\n",
       "      <td>1</td>\n",
       "      <td>1</td>\n",
       "      <td>833.136230</td>\n",
       "      <td>1</td>\n",
       "      <td>1</td>\n",
       "      <td>1</td>\n",
       "      <td>-6</td>\n",
       "      <td>1</td>\n",
       "      <td>...</td>\n",
       "      <td>6.269946</td>\n",
       "      <td>5.180325</td>\n",
       "      <td>21.921135</td>\n",
       "      <td>24.507672</td>\n",
       "      <td>6.473537</td>\n",
       "      <td>-5.903519</td>\n",
       "      <td>4.476881</td>\n",
       "      <td>9.628369</td>\n",
       "      <td>-6.429897</td>\n",
       "      <td>3.668064</td>\n",
       "    </tr>\n",
       "    <tr>\n",
       "      <th>108</th>\n",
       "      <td>0</td>\n",
       "      <td>23</td>\n",
       "      <td>1</td>\n",
       "      <td>1</td>\n",
       "      <td>29.977249</td>\n",
       "      <td>1</td>\n",
       "      <td>1</td>\n",
       "      <td>1</td>\n",
       "      <td>-6</td>\n",
       "      <td>1</td>\n",
       "      <td>...</td>\n",
       "      <td>29.511374</td>\n",
       "      <td>27.389101</td>\n",
       "      <td>2.511131</td>\n",
       "      <td>1.718804</td>\n",
       "      <td>28.682328</td>\n",
       "      <td>16.369411</td>\n",
       "      <td>26.287101</td>\n",
       "      <td>9.628369</td>\n",
       "      <td>15.981275</td>\n",
       "      <td>4.143642</td>\n",
       "    </tr>\n",
       "    <tr>\n",
       "      <th>837</th>\n",
       "      <td>0</td>\n",
       "      <td>55</td>\n",
       "      <td>1</td>\n",
       "      <td>1</td>\n",
       "      <td>11.944592</td>\n",
       "      <td>1</td>\n",
       "      <td>1</td>\n",
       "      <td>1</td>\n",
       "      <td>-6</td>\n",
       "      <td>1</td>\n",
       "      <td>...</td>\n",
       "      <td>6.269946</td>\n",
       "      <td>5.180325</td>\n",
       "      <td>23.216273</td>\n",
       "      <td>21.923256</td>\n",
       "      <td>6.473537</td>\n",
       "      <td>-5.827102</td>\n",
       "      <td>4.476881</td>\n",
       "      <td>9.628369</td>\n",
       "      <td>-5.727972</td>\n",
       "      <td>3.424922</td>\n",
       "    </tr>\n",
       "    <tr>\n",
       "      <th>1138</th>\n",
       "      <td>1</td>\n",
       "      <td>0</td>\n",
       "      <td>1</td>\n",
       "      <td>1</td>\n",
       "      <td>404.416046</td>\n",
       "      <td>1</td>\n",
       "      <td>1</td>\n",
       "      <td>1</td>\n",
       "      <td>-6</td>\n",
       "      <td>1</td>\n",
       "      <td>...</td>\n",
       "      <td>28.408407</td>\n",
       "      <td>27.309260</td>\n",
       "      <td>2.511131</td>\n",
       "      <td>1.718804</td>\n",
       "      <td>28.179191</td>\n",
       "      <td>16.369411</td>\n",
       "      <td>26.337857</td>\n",
       "      <td>9.628369</td>\n",
       "      <td>-5.264301</td>\n",
       "      <td>3.665748</td>\n",
       "    </tr>\n",
       "  </tbody>\n",
       "</table>\n",
       "<p>5 rows × 10478 columns</p>\n",
       "</div>"
      ],
      "text/plain": [
       "      cf1lenhr  cf1lenmin  cf1fint  cf1citsm    f1citywt  f1a2  f1a3  f1a4  \\\n",
       "918          0         39        1         1   41.400322     1     1    -3   \n",
       "592          0         45        1         1  833.136230     1     1     1   \n",
       "108          0         23        1         1   29.977249     1     1     1   \n",
       "837          0         55        1         1   11.944592     1     1     1   \n",
       "1138         1          0        1         1  404.416046     1     1     1   \n",
       "\n",
       "      f1a4a  f1a5  ...       m4d9      m4e23       f4d6       f4d7       f4d9  \\\n",
       "918       2     2  ...   6.269946  26.990283   2.511131   1.718804   6.473537   \n",
       "592      -6     1  ...   6.269946   5.180325  21.921135  24.507672   6.473537   \n",
       "108      -6     1  ...  29.511374  27.389101   2.511131   1.718804  28.682328   \n",
       "837      -6     1  ...   6.269946   5.180325  23.216273  21.923256   6.473537   \n",
       "1138     -6     1  ...  28.408407  27.309260   2.511131   1.718804  28.179191   \n",
       "\n",
       "           m5c6      m5d20     m5k10       f5c6      k5f1  \n",
       "918   16.369411  26.287101  9.628369  15.981275  5.843237  \n",
       "592   -5.903519   4.476881  9.628369  -6.429897  3.668064  \n",
       "108   16.369411  26.287101  9.628369  15.981275  4.143642  \n",
       "837   -5.827102   4.476881  9.628369  -5.727972  3.424922  \n",
       "1138  16.369411  26.337857  9.628369  -5.264301  3.665748  \n",
       "\n",
       "[5 rows x 10478 columns]"
      ]
     },
     "metadata": {},
     "output_type": "display_data"
    },
    {
     "data": {
      "text/plain": [
       "(932, 10478)"
      ]
     },
     "metadata": {},
     "output_type": "display_data"
    },
    {
     "data": {
      "text/plain": [
       "(233, 10478)"
      ]
     },
     "metadata": {},
     "output_type": "display_data"
    },
    {
     "data": {
      "text/plain": [
       "523    3.00\n",
       "295    1.75\n",
       "916    2.50\n",
       "851    2.25\n",
       "97     1.50\n",
       "Name: gpa, dtype: float64"
      ]
     },
     "metadata": {},
     "output_type": "display_data"
    },
    {
     "data": {
      "text/plain": [
       "918     2.25\n",
       "592     3.75\n",
       "108     3.75\n",
       "837     2.25\n",
       "1138    3.75\n",
       "Name: gpa, dtype: float64"
      ]
     },
     "metadata": {},
     "output_type": "display_data"
    },
    {
     "data": {
      "text/plain": [
       "(932,)"
      ]
     },
     "metadata": {},
     "output_type": "display_data"
    },
    {
     "data": {
      "text/plain": [
       "(233,)"
      ]
     },
     "metadata": {},
     "output_type": "display_data"
    }
   ],
   "source": [
    "# Output the head and the shape\n",
    "display(X_train.head(), X_test.head(), X_train.shape, X_test.shape)\n",
    "display(y_train.head(), y_test.head(), y_train.shape, y_test.shape)\n"
   ]
  },
  {
   "cell_type": "code",
   "execution_count": 14,
   "id": "6d6b2937-f68d-49f0-8a44-e11faaf06cee",
   "metadata": {},
   "outputs": [
    {
     "data": {
      "text/plain": [
       "<matplotlib.legend.Legend at 0x7f133be6bd60>"
      ]
     },
     "execution_count": 14,
     "metadata": {},
     "output_type": "execute_result"
    },
    {
     "data": {
      "image/png": "[encoded data removed]",
      "text/plain": [
       "<Figure size 960x480 with 1 Axes>"
      ]
     },
     "metadata": {},
     "output_type": "display_data"
    }
   ],
   "source": [
    "# Visually check if the distribution of data set is similar for both the training and test set\n",
    "%matplotlib inline\n",
    "\n",
    "plt.figure(figsize=(10,8))\n",
    "hist_continuos = (y_train.hist(bins=10, figsize=(9.6, 4.8), label='Train'))\n",
    "hist_continuos = (y_test.hist(bins=10, figsize=(9.6, 4.8), label='Test'))\n",
    "plt.legend(loc='best')"
   ]
  },
  {
   "cell_type": "markdown",
   "id": "1d3340f7-a405-4493-a897-33045896ad48",
   "metadata": {},
   "source": [
    "The distribution looks representative"
   ]
  },
  {
   "cell_type": "code",
   "execution_count": 15,
   "id": "e312a12b-9bdb-44f8-aa0f-b9b1984f2098",
   "metadata": {},
   "outputs": [],
   "source": [
    "# Standardize the data set\n",
    "from sklearn.preprocessing import StandardScaler, MinMaxScaler\n",
    "\n",
    "mm_sc = MinMaxScaler()\n",
    "X_train = mm_sc.fit_transform(X_train)\n",
    "X_test = mm_sc.transform(X_test)"
   ]
  },
  {
   "cell_type": "markdown",
   "id": "978888f7-7ee2-4dc5-9e06-108286cc81be",
   "metadata": {},
   "source": [
    "### Next we try to identify the key features"
   ]
  },
  {
   "cell_type": "code",
   "execution_count": 28,
   "id": "4987193d-43f0-4daa-8681-3c975ff58a74",
   "metadata": {},
   "outputs": [],
   "source": [
    "from sklearn.decomposition import PCA\n",
    "\n",
    "pca = PCA()\n",
    "X_train_PCA = pca.fit_transform(X_train)"
   ]
  },
  {
   "cell_type": "code",
   "execution_count": 29,
   "id": "45e8658d-dac3-4221-87e6-20678cae36c0",
   "metadata": {},
   "outputs": [],
   "source": [
    "explained_variance = pca.explained_variance_ratio_/max(pca.explained_variance_ratio_)\n",
    "explained_variance = explained_variance[explained_variance > 0.05]"
   ]
  },
  {
   "cell_type": "code",
   "execution_count": 30,
   "id": "3fa735e9-e4a9-4ce4-823e-8cc3e4d1c978",
   "metadata": {},
   "outputs": [
    {
     "name": "stdout",
     "output_type": "stream",
     "text": [
      "20\n"
     ]
    }
   ],
   "source": [
    "n_features = len(explained_variance)\n",
    "print(n_features)"
   ]
  },
  {
   "cell_type": "code",
   "execution_count": 31,
   "id": "9e591f69-195a-46af-b4cd-7aac4ec8a94d",
   "metadata": {},
   "outputs": [],
   "source": [
    "X_test_PCA = pca.transform(X_test)"
   ]
  },
  {
   "cell_type": "code",
   "execution_count": 32,
   "id": "f20c47d8-1326-48e5-86ec-3be3babc801c",
   "metadata": {},
   "outputs": [],
   "source": [
    "from sklearn.ensemble import RandomForestRegressor\n",
    "\n",
    "regressor = RandomForestRegressor(n_estimators=50, max_depth=10, random_state=0)\n",
    "regressor.fit(X_train_PCA, y_train)\n",
    "\n",
    "# Predicting the Test set results\n",
    "y_pred = regressor.predict(X_test_PCA)"
   ]
  },
  {
   "cell_type": "code",
   "execution_count": 33,
   "id": "b9ec4fa7-0b1a-4f17-a349-7abb818661a8",
   "metadata": {},
   "outputs": [
    {
     "data": {
      "text/plain": [
       "[<matplotlib.lines.Line2D at 0x7f13306ce800>]"
      ]
     },
     "execution_count": 33,
     "metadata": {},
     "output_type": "execute_result"
    },
    {
     "data": {
      "image/png": "[encoded data removed]",
      "text/plain": [
       "<Figure size 640x480 with 1 Axes>"
      ]
     },
     "metadata": {},
     "output_type": "display_data"
    }
   ],
   "source": [
    "fig, axs = plt.subplots(1,1, figsize=(6.4, 4.8))\n",
    "\n",
    "plt.scatter(y_test, y_pred, marker='o', color='red')\n",
    "y_min, y_max = np.min(np.array([np.min(y_pred),np.min(y_test)])), np.max(np.array([np.max(y_pred),np.max(y_test)]))\n",
    "\n",
    "plt.scatter(y_test, y_pred, marker='o', color='red')\n",
    "plt.xlabel('True GPA')\n",
    "plt.ylabel('Predicted GPA')\n",
    "plt.plot(np.linspace(y_min, y_max, 100), np.linspace(y_min, y_max, 100), c='k', ls ='--')"
   ]
  },
  {
   "cell_type": "code",
   "execution_count": 34,
   "id": "a38192d5-95b0-4e65-a88d-cf9920b8686c",
   "metadata": {},
   "outputs": [],
   "source": [
    "from sklearn.metrics import mean_squared_error,mean_absolute_error,explained_variance_score"
   ]
  },
  {
   "cell_type": "code",
   "execution_count": 35,
   "id": "911ec6b2-8a92-49a4-bd70-c677adfdf68d",
   "metadata": {},
   "outputs": [
    {
     "data": {
      "text/plain": [
       "0.5464085501515717"
      ]
     },
     "execution_count": 35,
     "metadata": {},
     "output_type": "execute_result"
    }
   ],
   "source": [
    "mean_absolute_error(y_test,y_pred)"
   ]
  },
  {
   "cell_type": "code",
   "execution_count": 36,
   "id": "71ed1402-7191-4cba-9e1f-86392085f034",
   "metadata": {},
   "outputs": [
    {
     "data": {
      "text/plain": [
       "0.6721761175516399"
      ]
     },
     "execution_count": 36,
     "metadata": {},
     "output_type": "execute_result"
    }
   ],
   "source": [
    "rmse_error = np.sqrt(mean_squared_error(y_test,y_pred))\n",
    "rmse_error"
   ]
  },
  {
   "cell_type": "code",
   "execution_count": 37,
   "id": "9894b647-93f3-45c9-8482-3bf3f41ce5a6",
   "metadata": {},
   "outputs": [
    {
     "data": {
      "text/plain": [
       "0.030879711944184374"
      ]
     },
     "execution_count": 37,
     "metadata": {},
     "output_type": "execute_result"
    }
   ],
   "source": [
    "explained_variance_score(y_test,y_pred)"
   ]
  },
  {
   "cell_type": "markdown",
   "id": "7002f38a-679c-49b9-a985-9d5e01302752",
   "metadata": {},
   "source": [
    "# Neural Network Approach\n",
    "\n",
    "In this section, we train the same training set using a deep learning model and compare performance with random forest regressor"
   ]
  },
  {
   "cell_type": "code",
   "execution_count": null,
   "id": "3d91f4fa-418b-4c0c-923b-40bec7985c20",
   "metadata": {},
   "outputs": [],
   "source": [
    "# Standardize the data set\n",
    "from sklearn.preprocessing import StandardScaler, MinMaxScaler\n",
    "\n",
    "mm_sc = MinMaxScaler()\n",
    "X_train = mm_sc.fit_transform(X_train)\n",
    "X_test = mm_sc.transform(X_test)"
   ]
  },
  {
   "cell_type": "code",
   "execution_count": 38,
   "id": "cca0a777-1e60-42f6-9daa-41883a7ce1f8",
   "metadata": {},
   "outputs": [
    {
     "name": "stderr",
     "output_type": "stream",
     "text": [
      "2022-09-10 22:55:46.504549: W tensorflow/stream_executor/platform/default/dso_loader.cc:64] Could not load dynamic library 'libcudart.so.11.0'; dlerror: libcudart.so.11.0: cannot open shared object file: No such file or directory\n",
      "2022-09-10 22:55:46.504652: I tensorflow/stream_executor/cuda/cudart_stub.cc:29] Ignore above cudart dlerror if you do not have a GPU set up on your machine.\n"
     ]
    }
   ],
   "source": [
    "import tensorflow as tf\n",
    "from tensorflow.keras.models import Sequential\n",
    "from tensorflow.keras.layers import Dense, Activation,Dropout\n",
    "from tensorflow.keras.constraints import max_norm"
   ]
  },
  {
   "cell_type": "code",
   "execution_count": 52,
   "id": "32f8d9d2-672d-4fda-a66f-d7109008bd43",
   "metadata": {},
   "outputs": [
    {
     "data": {
      "text/plain": [
       "(932, 932)"
      ]
     },
     "execution_count": 52,
     "metadata": {},
     "output_type": "execute_result"
    }
   ],
   "source": [
    "X_train_PCA.shape"
   ]
  },
  {
   "cell_type": "code",
   "execution_count": 188,
   "id": "e6e54e99-c5e0-40f4-a99a-61f2a99098c4",
   "metadata": {},
   "outputs": [],
   "source": [
    "from tensorflow.keras.callbacks import EarlyStopping\n",
    "early_stop = EarlyStopping(monitor='val_loss',patience=3)"
   ]
  },
  {
   "cell_type": "code",
   "execution_count": 193,
   "id": "c5e3f598-1051-429f-9aa0-bd0147aac35e",
   "metadata": {},
   "outputs": [],
   "source": [
    "model = Sequential()\n",
    "\n",
    "# https://stats.stackexchange.com/questions/181/how-to-choose-the-number-of-hidden-layers-and-nodes-in-a-feedforward-neural-netw\n",
    "\n",
    "n = 932\n",
    "\n",
    "# input layer\n",
    "model.add(Dense(n,  activation='relu'))\n",
    "model.add(Dropout(0.1))\n",
    "\n",
    "# hidden layer\n",
    "model.add(Dense(128, activation='relu'))\n",
    "\n",
    "model.add(Dense(128, activation='relu'))\n",
    "\n",
    "model.add(Dense(128, activation='relu'))\n",
    "\n",
    "# output layer\n",
    "model.add(Dense(units=1,activation='relu'))\n",
    "\n",
    "# Compile mode\n",
    "model.compile(loss='mse', optimizer='adam')"
   ]
  },
  {
   "cell_type": "code",
   "execution_count": 194,
   "id": "cdbc6abd-5b11-41ca-af01-42e19e8ce5da",
   "metadata": {},
   "outputs": [
    {
     "name": "stdout",
     "output_type": "stream",
     "text": [
      "Epoch 1/50\n",
      "30/30 [==============================] - 1s 10ms/step - loss: 1.0936 - val_loss: 0.6722\n",
      "Epoch 2/50\n",
      "30/30 [==============================] - 0s 7ms/step - loss: 0.3010 - val_loss: 0.5176\n",
      "Epoch 3/50\n",
      "30/30 [==============================] - 0s 8ms/step - loss: 0.1112 - val_loss: 0.5326\n"
     ]
    },
    {
     "data": {
      "text/plain": [
       "<keras.callbacks.History at 0x7f10e9152a10>"
      ]
     },
     "execution_count": 194,
     "metadata": {},
     "output_type": "execute_result"
    }
   ],
   "source": [
    "model.fit(x=X_train_PCA, \n",
    "          y=y_train, \n",
    "          epochs=50,\n",
    "          validation_data=(X_test_PCA, y_test), \n",
    "          callbacks=[early_stop]\n",
    "          )"
   ]
  },
  {
   "cell_type": "code",
   "execution_count": 195,
   "id": "b393c28d-ab7f-49b1-a964-e2209f2e08c5",
   "metadata": {},
   "outputs": [],
   "source": [
    "losses = pd.DataFrame(model.history.history)"
   ]
  },
  {
   "cell_type": "code",
   "execution_count": 196,
   "id": "5f0840ff-9109-44fb-bb68-ca6b06c71624",
   "metadata": {},
   "outputs": [
    {
     "data": {
      "text/plain": [
       "<AxesSubplot:>"
      ]
     },
     "execution_count": 196,
     "metadata": {},
     "output_type": "execute_result"
    },
    {
     "data": {
      "image/png": "[encoded data removed]",
      "text/plain": [
       "<Figure size 640x480 with 1 Axes>"
      ]
     },
     "metadata": {},
     "output_type": "display_data"
    }
   ],
   "source": [
    "losses[['loss','val_loss']].plot()"
   ]
  },
  {
   "cell_type": "code",
   "execution_count": 197,
   "id": "65a1354b-8fe8-4b18-8498-468bda1b0a58",
   "metadata": {},
   "outputs": [],
   "source": [
    "from sklearn.metrics import mean_squared_error,mean_absolute_error,explained_variance_score"
   ]
  },
  {
   "cell_type": "code",
   "execution_count": 198,
   "id": "dabae633-5d58-428d-aabc-aacdde0434a3",
   "metadata": {},
   "outputs": [
    {
     "name": "stdout",
     "output_type": "stream",
     "text": [
      "8/8 [==============================] - 0s 3ms/step\n"
     ]
    }
   ],
   "source": [
    "predictions = model.predict(X_test_PCA)"
   ]
  },
  {
   "cell_type": "code",
   "execution_count": 199,
   "id": "80b68f38-6f21-4a5f-b20e-c0a1760f8bfc",
   "metadata": {},
   "outputs": [
    {
     "data": {
      "text/plain": [
       "0.5757747407634882"
      ]
     },
     "execution_count": 199,
     "metadata": {},
     "output_type": "execute_result"
    }
   ],
   "source": [
    "mean_absolute_error(y_test,predictions)"
   ]
  },
  {
   "cell_type": "code",
   "execution_count": 200,
   "id": "959c3261-ff85-42ba-915f-3abc19ac4efc",
   "metadata": {},
   "outputs": [
    {
     "data": {
      "text/plain": [
       "0.7298259824992201"
      ]
     },
     "execution_count": 200,
     "metadata": {},
     "output_type": "execute_result"
    }
   ],
   "source": [
    "rmse_error = np.sqrt(mean_squared_error(y_test,predictions))\n",
    "rmse_error"
   ]
  },
  {
   "cell_type": "code",
   "execution_count": 201,
   "id": "6cfd6c60-9e62-4d40-94b5-76097e1a3f3b",
   "metadata": {},
   "outputs": [
    {
     "data": {
      "text/plain": [
       "[<matplotlib.lines.Line2D at 0x7f126c18ec50>]"
      ]
     },
     "execution_count": 201,
     "metadata": {},
     "output_type": "execute_result"
    },
    {
     "data": {
      "image/png": "[encoded data removed]",
      "text/plain": [
       "<Figure size 640x480 with 1 Axes>"
      ]
     },
     "metadata": {},
     "output_type": "display_data"
    }
   ],
   "source": [
    "# Our predictions\n",
    "plt.scatter(y_test,predictions)\n",
    "\n",
    "# Perfect predictions\n",
    "plt.plot(y_test,y_test,'r')"
   ]
  },
  {
   "cell_type": "code",
   "execution_count": 202,
   "id": "dc9c757c-9135-453f-a62c-bc6b1c6ea448",
   "metadata": {},
   "outputs": [
    {
     "data": {
      "text/plain": [
       "[<matplotlib.lines.Line2D at 0x7f10e9191a50>]"
      ]
     },
     "execution_count": 202,
     "metadata": {},
     "output_type": "execute_result"
    },
    {
     "data": {
      "image/png": "[encoded data removed]",
      "text/plain": [
       "<Figure size 640x480 with 1 Axes>"
      ]
     },
     "metadata": {},
     "output_type": "display_data"
    }
   ],
   "source": [
    "plt.plot(predictions)"
   ]
  },
  {
   "cell_type": "code",
   "execution_count": null,
   "id": "9f9131bc-507f-4204-9002-07260c8fa244",
   "metadata": {},
   "outputs": [],
   "source": []
  },
  {
   "cell_type": "code",
   "execution_count": null,
   "id": "d9cbef5a-49bd-4b9c-b246-12b2d7c65333",
   "metadata": {},
   "outputs": [],
   "source": []
  }
 ],
 "metadata": {
  "kernelspec": {
   "display_name": "Python 3 (ipykernel)",
   "language": "python",
   "name": "python3"
  },
  "language_info": {
   "codemirror_mode": {
    "name": "ipython",
    "version": 3
   },
   "file_extension": ".py",
   "mimetype": "text/x-python",
   "name": "python",
   "nbconvert_exporter": "python",
   "pygments_lexer": "ipython3",
   "version": "3.10.4"
  }
 },
 "nbformat": 4,
 "nbformat_minor": 5
}
